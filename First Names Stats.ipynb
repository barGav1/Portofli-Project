{
 "cells": [
  {
   "cell_type": "code",
   "execution_count": 1,
   "metadata": {},
   "outputs": [],
   "source": [
    "import pandas as pd\n",
    "import numpy as np\n",
    "import matplotlib.pyplot as plt\n",
    "import matplotlib.patches as mpatches\n",
    "import seaborn as sns\n",
    "import random"
   ]
  },
  {
   "cell_type": "markdown",
   "metadata": {},
   "source": [
    "bar gavriely - 316390053"
   ]
  },
  {
   "cell_type": "markdown",
   "metadata": {},
   "source": [
    "reading the entire excel file with 10 worksheets"
   ]
  },
  {
   "cell_type": "code",
   "execution_count": 2,
   "metadata": {},
   "outputs": [],
   "source": [
    "xls = pd.ExcelFile(r\"C:\\Users\\USER\\Desktop\\לימודים\\למידת מכונה\\FirstNames.xlsx\")"
   ]
  },
  {
   "cell_type": "markdown",
   "metadata": {},
   "source": [
    "divide the data into 10 seperate dataset while skipping the first few rows.\n",
    "data starts at the 13th row"
   ]
  },
  {
   "cell_type": "code",
   "execution_count": 3,
   "metadata": {},
   "outputs": [],
   "source": [
    "df_Jew_M = pd.read_excel(xls, 'יהודים',skiprows=12)\n",
    "df_Jew_F = pd.read_excel(xls, 'יהודיות',skiprows=12)\n",
    "df_Mus_M = pd.read_excel(xls, 'מוסלמים',skiprows=12)\n",
    "df_Mus_F = pd.read_excel(xls, 'מוסלמיות',skiprows=12)\n",
    "df_Chr_M = pd.read_excel(xls, 'נוצרים',skiprows=12)\n",
    "df_Chr_F = pd.read_excel(xls, 'נוצריות',skiprows=12)\n",
    "df_Dro_M = pd.read_excel(xls, 'דרוזים',skiprows=12)\n",
    "df_Dro_F = pd.read_excel(xls, 'דרוזיות',skiprows=12)\n",
    "df_Oth_M = pd.read_excel(xls, 'אחרים',skiprows=12)\n",
    "df_Oth_F = pd.read_excel(xls, 'אחרות',skiprows=12)"
   ]
  },
  {
   "cell_type": "code",
   "execution_count": 4,
   "metadata": {},
   "outputs": [
    {
     "data": {
      "text/plain": [
       "(1042, 76)"
      ]
     },
     "execution_count": 4,
     "metadata": {},
     "output_type": "execute_result"
    }
   ],
   "source": [
    "df_Jew_M.shape"
   ]
  },
  {
   "cell_type": "markdown",
   "metadata": {},
   "source": [
    "there are 1042 unique name recordes over 73 years 1948-2021 (with 3 rows for index name and totatl)"
   ]
  },
  {
   "cell_type": "code",
   "execution_count": 5,
   "metadata": {},
   "outputs": [
    {
     "data": {
      "text/html": [
       "<div>\n",
       "<style scoped>\n",
       "    .dataframe tbody tr th:only-of-type {\n",
       "        vertical-align: middle;\n",
       "    }\n",
       "\n",
       "    .dataframe tbody tr th {\n",
       "        vertical-align: top;\n",
       "    }\n",
       "\n",
       "    .dataframe thead th {\n",
       "        text-align: right;\n",
       "    }\n",
       "</style>\n",
       "<table border=\"1\" class=\"dataframe\">\n",
       "  <thead>\n",
       "    <tr style=\"text-align: right;\">\n",
       "      <th></th>\n",
       "      <th>סך הכל בשנים\\n1948-2021</th>\n",
       "    </tr>\n",
       "  </thead>\n",
       "  <tbody>\n",
       "    <tr>\n",
       "      <th>count</th>\n",
       "      <td>1042.000000</td>\n",
       "    </tr>\n",
       "    <tr>\n",
       "      <th>mean</th>\n",
       "      <td>2745.244722</td>\n",
       "    </tr>\n",
       "    <tr>\n",
       "      <th>std</th>\n",
       "      <td>6958.183942</td>\n",
       "    </tr>\n",
       "    <tr>\n",
       "      <th>min</th>\n",
       "      <td>8.000000</td>\n",
       "    </tr>\n",
       "    <tr>\n",
       "      <th>25%</th>\n",
       "      <td>86.000000</td>\n",
       "    </tr>\n",
       "    <tr>\n",
       "      <th>50%</th>\n",
       "      <td>257.500000</td>\n",
       "    </tr>\n",
       "    <tr>\n",
       "      <th>75%</th>\n",
       "      <td>1714.500000</td>\n",
       "    </tr>\n",
       "    <tr>\n",
       "      <th>max</th>\n",
       "      <td>66415.000000</td>\n",
       "    </tr>\n",
       "  </tbody>\n",
       "</table>\n",
       "</div>"
      ],
      "text/plain": [
       "       סך הכל בשנים\\n1948-2021\n",
       "count              1042.000000\n",
       "mean               2745.244722\n",
       "std                6958.183942\n",
       "min                   8.000000\n",
       "25%                  86.000000\n",
       "50%                 257.500000\n",
       "75%                1714.500000\n",
       "max               66415.000000"
      ]
     },
     "execution_count": 5,
     "metadata": {},
     "output_type": "execute_result"
    }
   ],
   "source": [
    "df_Jew_M.describe()"
   ]
  },
  {
   "cell_type": "markdown",
   "metadata": {},
   "source": [
    "understanding the statistics per name"
   ]
  },
  {
   "cell_type": "code",
   "execution_count": 6,
   "metadata": {},
   "outputs": [
    {
     "data": {
      "text/html": [
       "<div>\n",
       "<style scoped>\n",
       "    .dataframe tbody tr th:only-of-type {\n",
       "        vertical-align: middle;\n",
       "    }\n",
       "\n",
       "    .dataframe tbody tr th {\n",
       "        vertical-align: top;\n",
       "    }\n",
       "\n",
       "    .dataframe thead th {\n",
       "        text-align: right;\n",
       "    }\n",
       "</style>\n",
       "<table border=\"1\" class=\"dataframe\">\n",
       "  <thead>\n",
       "    <tr style=\"text-align: right;\">\n",
       "      <th></th>\n",
       "      <th>שם פרטי</th>\n",
       "      <th>סך הכל בשנים\\n1948-2021</th>\n",
       "      <th>1948</th>\n",
       "      <th>1949</th>\n",
       "      <th>1950</th>\n",
       "      <th>1951</th>\n",
       "      <th>1952</th>\n",
       "      <th>1953</th>\n",
       "      <th>1954</th>\n",
       "      <th>1955</th>\n",
       "      <th>...</th>\n",
       "      <th>2012</th>\n",
       "      <th>2013</th>\n",
       "      <th>2014</th>\n",
       "      <th>2015</th>\n",
       "      <th>2016</th>\n",
       "      <th>2017</th>\n",
       "      <th>2018</th>\n",
       "      <th>2019</th>\n",
       "      <th>2020</th>\n",
       "      <th>2021</th>\n",
       "    </tr>\n",
       "  </thead>\n",
       "  <tbody>\n",
       "    <tr>\n",
       "      <th>0</th>\n",
       "      <td>אבא</td>\n",
       "      <td>179</td>\n",
       "      <td>.</td>\n",
       "      <td>6</td>\n",
       "      <td>..</td>\n",
       "      <td>..</td>\n",
       "      <td>8</td>\n",
       "      <td>..</td>\n",
       "      <td>5</td>\n",
       "      <td>..</td>\n",
       "      <td>...</td>\n",
       "      <td>..</td>\n",
       "      <td>..</td>\n",
       "      <td>..</td>\n",
       "      <td>..</td>\n",
       "      <td>..</td>\n",
       "      <td>..</td>\n",
       "      <td>..</td>\n",
       "      <td>..</td>\n",
       "      <td>..</td>\n",
       "      <td>..</td>\n",
       "    </tr>\n",
       "    <tr>\n",
       "      <th>1</th>\n",
       "      <td>אבי</td>\n",
       "      <td>9047</td>\n",
       "      <td>34</td>\n",
       "      <td>49</td>\n",
       "      <td>53</td>\n",
       "      <td>79</td>\n",
       "      <td>92</td>\n",
       "      <td>80</td>\n",
       "      <td>89</td>\n",
       "      <td>97</td>\n",
       "      <td>...</td>\n",
       "      <td>9</td>\n",
       "      <td>10</td>\n",
       "      <td>10</td>\n",
       "      <td>11</td>\n",
       "      <td>9</td>\n",
       "      <td>10</td>\n",
       "      <td>..</td>\n",
       "      <td>..</td>\n",
       "      <td>13</td>\n",
       "      <td>10</td>\n",
       "    </tr>\n",
       "    <tr>\n",
       "      <th>2</th>\n",
       "      <td>אבי-אברהם</td>\n",
       "      <td>29</td>\n",
       "      <td>.</td>\n",
       "      <td>.</td>\n",
       "      <td>.</td>\n",
       "      <td>.</td>\n",
       "      <td>.</td>\n",
       "      <td>.</td>\n",
       "      <td>.</td>\n",
       "      <td>.</td>\n",
       "      <td>...</td>\n",
       "      <td>.</td>\n",
       "      <td>.</td>\n",
       "      <td>.</td>\n",
       "      <td>.</td>\n",
       "      <td>.</td>\n",
       "      <td>.</td>\n",
       "      <td>.</td>\n",
       "      <td>.</td>\n",
       "      <td>.</td>\n",
       "      <td>.</td>\n",
       "    </tr>\n",
       "    <tr>\n",
       "      <th>3</th>\n",
       "      <td>אביאור</td>\n",
       "      <td>523</td>\n",
       "      <td>.</td>\n",
       "      <td>.</td>\n",
       "      <td>.</td>\n",
       "      <td>.</td>\n",
       "      <td>.</td>\n",
       "      <td>.</td>\n",
       "      <td>.</td>\n",
       "      <td>.</td>\n",
       "      <td>...</td>\n",
       "      <td>11</td>\n",
       "      <td>14</td>\n",
       "      <td>18</td>\n",
       "      <td>19</td>\n",
       "      <td>31</td>\n",
       "      <td>25</td>\n",
       "      <td>22</td>\n",
       "      <td>27</td>\n",
       "      <td>27</td>\n",
       "      <td>32</td>\n",
       "    </tr>\n",
       "    <tr>\n",
       "      <th>4</th>\n",
       "      <td>אביאל</td>\n",
       "      <td>5734</td>\n",
       "      <td>..</td>\n",
       "      <td>..</td>\n",
       "      <td>..</td>\n",
       "      <td>..</td>\n",
       "      <td>..</td>\n",
       "      <td>..</td>\n",
       "      <td>..</td>\n",
       "      <td>6</td>\n",
       "      <td>...</td>\n",
       "      <td>161</td>\n",
       "      <td>163</td>\n",
       "      <td>260</td>\n",
       "      <td>314</td>\n",
       "      <td>297</td>\n",
       "      <td>274</td>\n",
       "      <td>231</td>\n",
       "      <td>222</td>\n",
       "      <td>178</td>\n",
       "      <td>180</td>\n",
       "    </tr>\n",
       "  </tbody>\n",
       "</table>\n",
       "<p>5 rows × 76 columns</p>\n",
       "</div>"
      ],
      "text/plain": [
       "     שם פרטי  סך הכל בשנים\\n1948-2021 1948 1949 1950 1951 1952 1953 1954 1955  \\\n",
       "0        אבא                      179    .    6   ..   ..    8   ..    5   ..   \n",
       "1        אבי                     9047   34   49   53   79   92   80   89   97   \n",
       "2  אבי-אברהם                       29    .    .    .    .    .    .    .    .   \n",
       "3     אביאור                      523    .    .    .    .    .    .    .    .   \n",
       "4      אביאל                     5734   ..   ..   ..   ..   ..   ..   ..    6   \n",
       "\n",
       "   ... 2012 2013 2014 2015 2016 2017 2018 2019 2020 2021  \n",
       "0  ...   ..   ..   ..   ..   ..   ..   ..   ..   ..   ..  \n",
       "1  ...    9   10   10   11    9   10   ..   ..   13   10  \n",
       "2  ...    .    .    .    .    .    .    .    .    .    .  \n",
       "3  ...   11   14   18   19   31   25   22   27   27   32  \n",
       "4  ...  161  163  260  314  297  274  231  222  178  180  \n",
       "\n",
       "[5 rows x 76 columns]"
      ]
     },
     "execution_count": 6,
     "metadata": {},
     "output_type": "execute_result"
    }
   ],
   "source": [
    "df_Jew_M.head()\n"
   ]
  },
  {
   "cell_type": "markdown",
   "metadata": {},
   "source": [
    "getting a glimpse of the data"
   ]
  },
  {
   "cell_type": "markdown",
   "metadata": {},
   "source": [
    "converting 1-4 values to 2.5 (marked by 2 dots) and 0 values to 0(marked by a 1 dot)"
   ]
  },
  {
   "cell_type": "code",
   "execution_count": 7,
   "metadata": {},
   "outputs": [],
   "source": [
    "df_Jew_M.replace(\"..\",2.5,True)\n",
    "df_Jew_M.replace(\".\",0,True)\n",
    "\n",
    "df_Jew_F.replace(\"..\",2.5,True)\n",
    "df_Jew_F.replace(\".\",0,True)\n",
    "\n",
    "df_Mus_M.replace(\"..\",2.5,True)\n",
    "df_Mus_M.replace(\".\",0,True)\n",
    "\n",
    "df_Mus_F.replace(\"..\",2.5,True)\n",
    "df_Mus_F.replace(\".\",0,True)\n",
    "\n",
    "df_Chr_M.replace(\"..\",2.5,True)\n",
    "df_Chr_M.replace(\".\",0,True)\n",
    "\n",
    "df_Chr_F.replace(\"..\",2.5,True)\n",
    "df_Chr_F.replace(\".\",0,True)\n",
    "\n",
    "df_Dro_M.replace(\"..\",2.5,True)\n",
    "df_Dro_M.replace(\".\",0,True)\n",
    "\n",
    "df_Dro_F.replace(\"..\",2.5,True)\n",
    "df_Dro_F.replace(\".\",0,True)\n",
    "\n",
    "df_Oth_M.replace(\"..\",2.5,True)\n",
    "df_Oth_M.replace(\".\",0,True)\n",
    "\n",
    "df_Oth_F.replace(\"..\",2.5,True)\n",
    "df_Oth_F.replace(\".\",0,True)"
   ]
  },
  {
   "cell_type": "code",
   "execution_count": 8,
   "metadata": {},
   "outputs": [],
   "source": [
    "df_all=pd.concat([df_Jew_M,df_Jew_F,df_Mus_M,df_Mus_F,df_Chr_M,df_Chr_F,df_Dro_M,df_Dro_F,df_Oth_M, df_Oth_F])"
   ]
  },
  {
   "cell_type": "markdown",
   "metadata": {},
   "source": [
    "creating a dataframe for the entire population"
   ]
  },
  {
   "cell_type": "code",
   "execution_count": 9,
   "metadata": {},
   "outputs": [],
   "source": [
    "df_M=pd.concat([df_Jew_M,df_Mus_M,df_Chr_M,df_Dro_M,df_Oth_M])\n",
    "df_F=pd.concat([df_Jew_F,df_Mus_F,df_Chr_F,df_Dro_F,df_Oth_F])\n",
    "df_Jew=pd.concat([df_Jew_F,df_Jew_M])\n",
    "df_Mus=pd.concat([df_Mus_F,df_Mus_M])"
   ]
  },
  {
   "cell_type": "markdown",
   "metadata": {},
   "source": [
    "creating a dataframe for males,females,jewish and muslim(the two biggest communitys)"
   ]
  },
  {
   "cell_type": "code",
   "execution_count": 10,
   "metadata": {},
   "outputs": [],
   "source": [
    "df_Jew_M=df_Jew_M.sort_values(\"סך הכל בשנים\\n1948-2021\",ascending=False)\n",
    "df_Jew_F=df_Jew_F.sort_values(\"סך הכל בשנים\\n1948-2021\",ascending=False)\n",
    "df_Mus_=df_Mus_M.sort_values(\"סך הכל בשנים\\n1948-2021\",ascending=False)\n",
    "df_Mus_F=df_Mus_F.sort_values(\"סך הכל בשנים\\n1948-2021\",ascending=False)\n",
    "df_Chr_M=df_Chr_M.sort_values(\"סך הכל בשנים\\n1948-2021\",ascending=False)\n",
    "df_Chr_F=df_Chr_F.sort_values(\"סך הכל בשנים\\n1948-2021\",ascending=False)\n",
    "df_Dro_M=df_Dro_M.sort_values(\"סך הכל בשנים\\n1948-2021\",ascending=False)\n",
    "df_Dro_F=df_Dro_F.sort_values(\"סך הכל בשנים\\n1948-2021\",ascending=False)\n",
    "df_Oth_M=df_Oth_M.sort_values(\"סך הכל בשנים\\n1948-2021\",ascending=False)\n",
    "df_Oth_F=df_Oth_F.sort_values(\"סך הכל בשנים\\n1948-2021\",ascending=False)\n",
    "df_all=df_all.sort_values(\"סך הכל בשנים\\n1948-2021\",ascending=False)"
   ]
  },
  {
   "cell_type": "markdown",
   "metadata": {},
   "source": [
    "sorting the tables by size"
   ]
  },
  {
   "cell_type": "code",
   "execution_count": 11,
   "metadata": {},
   "outputs": [],
   "source": [
    "df_all['Name'] = df_all.loc[:,'שם פרטי'].apply(lambda x: x[::-1])\n",
    "df_all[\"Total\"]=df_all[\"סך הכל בשנים\\n1948-2021\"]"
   ]
  },
  {
   "cell_type": "markdown",
   "metadata": {},
   "source": [
    "reversing the name because right to left dosent appear well in graphs"
   ]
  },
  {
   "cell_type": "code",
   "execution_count": 12,
   "metadata": {},
   "outputs": [
    {
     "data": {
      "text/plain": [
       "Text(0.5, 1.0, 'Top10 Common Names')"
      ]
     },
     "execution_count": 12,
     "metadata": {},
     "output_type": "execute_result"
    },
    {
     "data": {
      "image/png": "[encoded data removed]",
      "text/plain": [
       "<Figure size 432x288 with 1 Axes>"
      ]
     },
     "metadata": {
      "needs_background": "light"
     },
     "output_type": "display_data"
    }
   ],
   "source": [
    "df_all.head(10).plot.scatter(x=\"Name\", y=\"Total\").set_title(\"Top10 Common Names\")"
   ]
  },
  {
   "cell_type": "markdown",
   "metadata": {},
   "source": [
    "showing the top 10 most popular names in isreal"
   ]
  },
  {
   "cell_type": "code",
   "execution_count": 13,
   "metadata": {},
   "outputs": [],
   "source": [
    "sum_all=df_all[\"סך הכל בשנים\\n1948-2021\"].sum()\n",
    "sum_jew=df_Jew_M[\"סך הכל בשנים\\n1948-2021\"].sum()+df_Jew_F[\"סך הכל בשנים\\n1948-2021\"].sum()\n",
    "sum_Mus=df_Mus_M[\"סך הכל בשנים\\n1948-2021\"].sum()+df_Mus_F[\"סך הכל בשנים\\n1948-2021\"].sum()\n",
    "sum_Chr=df_Chr_M[\"סך הכל בשנים\\n1948-2021\"].sum()+df_Chr_F[\"סך הכל בשנים\\n1948-2021\"].sum()\n",
    "sum_Dro=df_Dro_M[\"סך הכל בשנים\\n1948-2021\"].sum()+df_Dro_F[\"סך הכל בשנים\\n1948-2021\"].sum()\n",
    "sum_Oth=df_Oth_M[\"סך הכל בשנים\\n1948-2021\"].sum()+df_Oth_F[\"סך הכל בשנים\\n1948-2021\"].sum()"
   ]
  },
  {
   "cell_type": "code",
   "execution_count": 14,
   "metadata": {},
   "outputs": [],
   "source": [
    "df_sum = {'Name': ['Total','Jew', 'Christian', 'Muslim', 'Drozim','Other'], 'Total': [sum_all,sum_jew, sum_Chr,sum_Mus, sum_Dro,sum_Oth]}\n",
    "df_sum = pd.DataFrame(df_sum)"
   ]
  },
  {
   "cell_type": "code",
   "execution_count": 34,
   "metadata": {},
   "outputs": [
    {
     "data": {
      "text/plain": [
       "Text(0.5, 1.0, 'Population Count')"
      ]
     },
     "execution_count": 34,
     "metadata": {},
     "output_type": "execute_result"
    },
    {
     "data": {
      "image/png": "[encoded data removed]",
      "text/plain": [
       "<Figure size 432x288 with 1 Axes>"
      ]
     },
     "metadata": {},
     "output_type": "display_data"
    }
   ],
   "source": [
    "sns.barplot(data=df_sum, x=\"Name\", y=\"Total\").set_title(\"Population Count\")"
   ]
  },
  {
   "cell_type": "markdown",
   "metadata": {},
   "source": [
    "getting a grasp of the population size and the distrubtion"
   ]
  },
  {
   "cell_type": "code",
   "execution_count": 16,
   "metadata": {},
   "outputs": [
    {
     "data": {
      "text/plain": [
       "<AxesSubplot:ylabel='Total'>"
      ]
     },
     "execution_count": 16,
     "metadata": {},
     "output_type": "execute_result"
    },
    {
     "data": {
      "image/png": "[encoded data removed]",
      "text/plain": [
       "<Figure size 432x288 with 1 Axes>"
      ]
     },
     "metadata": {},
     "output_type": "display_data"
    }
   ],
   "source": [
    "sum_mohamad=df_Mus_M.sort_values(\"סך הכל בשנים\\n1948-2021\").tail(1)\n",
    "sum_mohamad=sum_mohamad[\"סך הכל בשנים\\n1948-2021\"].sum()\n",
    "sum_rest=df_Mus_M.loc[df_Mus_M['שם פרטי'] != \"מוחמד\"]\n",
    "sum_rest=sum_rest[\"סך הכל בשנים\\n1948-2021\"].sum()\n",
    "df_Moh = {'Name': ['Mohamad', 'Rest'], 'Total': [sum_mohamad,sum_rest]}\n",
    "df_Moh = pd.DataFrame(df_Moh)\n",
    "df_Moh.groupby(['Name']).sum().plot(kind='pie', y='Total', autopct='%.2f%%')"
   ]
  },
  {
   "cell_type": "markdown",
   "metadata": {},
   "source": [
    "trying to understand the meaning of the most popular name(by a large margin) belonging to the second biggest community (who is alot smaller than the most popular one)"
   ]
  },
  {
   "cell_type": "code",
   "execution_count": 17,
   "metadata": {},
   "outputs": [
    {
     "data": {
      "text/plain": [
       "<AxesSubplot:ylabel='Total'>"
      ]
     },
     "execution_count": 17,
     "metadata": {},
     "output_type": "execute_result"
    },
    {
     "data": {
      "image/png": "[encoded data removed]",
      "text/plain": [
       "<Figure size 432x288 with 1 Axes>"
      ]
     },
     "metadata": {},
     "output_type": "display_data"
    }
   ],
   "source": [
    "sum_dvd=df_Jew_M.sort_values(\"סך הכל בשנים\\n1948-2021\").tail(1)\n",
    "sum_dvd=sum_dvd[\"סך הכל בשנים\\n1948-2021\"].sum()\n",
    "sum_rest1=df_Jew_M.loc[df_Jew_M['שם פרטי'] != \"דוד\"]\n",
    "sum_rest1=sum_rest1[\"סך הכל בשנים\\n1948-2021\"].sum()\n",
    "df_dvd = {'Name': ['david', 'Rest'], 'Total': [sum_mohamad,sum_rest1]}\n",
    "df_dvd = pd.DataFrame(df_dvd)\n",
    "df_dvd.groupby(['Name']).sum().plot(kind='pie', y='Total', autopct='%.2f%%')"
   ]
  },
  {
   "cell_type": "markdown",
   "metadata": {},
   "source": [
    "cross checking the most popular jewish name"
   ]
  },
  {
   "cell_type": "code",
   "execution_count": 18,
   "metadata": {},
   "outputs": [],
   "source": [
    "df_all['name_length']  = df_all['שם פרטי'].str.len()\n",
    "df_Jew['name_length']  = df_Jew['שם פרטי'].str.len()\n",
    "df_Mus['name_length']  = df_Mus['שם פרטי'].str.len()\n",
    "df_M['name_length']  = df_M['שם פרטי'].str.len()\n",
    "df_F['name_length']  = df_F['שם פרטי'].str.len()"
   ]
  },
  {
   "cell_type": "markdown",
   "metadata": {},
   "source": [
    "trying to understanding naming patterns across the demographics starting with name legnth"
   ]
  },
  {
   "cell_type": "code",
   "execution_count": 19,
   "metadata": {},
   "outputs": [
    {
     "data": {
      "text/plain": [
       "Text(0.5, 1.0, 'ALL')"
      ]
     },
     "execution_count": 19,
     "metadata": {},
     "output_type": "execute_result"
    },
    {
     "data": {
      "image/png": "[encoded data removed]",
      "text/plain": [
       "<Figure size 432x288 with 1 Axes>"
      ]
     },
     "metadata": {
      "needs_background": "light"
     },
     "output_type": "display_data"
    }
   ],
   "source": [
    "df_all[\"total\"]=df_all[\"סך הכל בשנים\\n1948-2021\"]\n",
    "df1 = df_all.groupby(\"name_length\").total.sum().reset_index()\n",
    "sns.barplot(data=df1,x=\"name_length\",y=\"total\").set_title('ALL')"
   ]
  },
  {
   "cell_type": "code",
   "execution_count": 20,
   "metadata": {},
   "outputs": [
    {
     "data": {
      "text/plain": [
       "Text(0.5, 1.0, 'Male')"
      ]
     },
     "execution_count": 20,
     "metadata": {},
     "output_type": "execute_result"
    },
    {
     "data": {
      "image/png": "[encoded data removed]",
      "text/plain": [
       "<Figure size 432x288 with 1 Axes>"
      ]
     },
     "metadata": {
      "needs_background": "light"
     },
     "output_type": "display_data"
    }
   ],
   "source": [
    "df_M[\"total\"]=df_M[\"סך הכל בשנים\\n1948-2021\"]\n",
    "df2 = df_M.groupby(\"name_length\").total.sum().reset_index()\n",
    "sns.barplot(data=df2,x=\"name_length\",y=\"total\").set_title('Male')"
   ]
  },
  {
   "cell_type": "code",
   "execution_count": 21,
   "metadata": {},
   "outputs": [
    {
     "data": {
      "text/plain": [
       "Text(0.5, 1.0, 'Female')"
      ]
     },
     "execution_count": 21,
     "metadata": {},
     "output_type": "execute_result"
    },
    {
     "data": {
      "image/png": "[encoded data removed]",
      "text/plain": [
       "<Figure size 432x288 with 1 Axes>"
      ]
     },
     "metadata": {
      "needs_background": "light"
     },
     "output_type": "display_data"
    }
   ],
   "source": [
    "df_F[\"total\"]=df_F[\"סך הכל בשנים\\n1948-2021\"]\n",
    "df5 = df_M.groupby(\"name_length\").total.sum().reset_index()\n",
    "sns.barplot(data=df5,x=\"name_length\",y=\"total\").set_title('Female')"
   ]
  },
  {
   "cell_type": "code",
   "execution_count": 22,
   "metadata": {},
   "outputs": [
    {
     "data": {
      "text/plain": [
       "Text(0.5, 1.0, 'Jew')"
      ]
     },
     "execution_count": 22,
     "metadata": {},
     "output_type": "execute_result"
    },
    {
     "data": {
      "image/png": "[encoded data removed]",
      "text/plain": [
       "<Figure size 432x288 with 1 Axes>"
      ]
     },
     "metadata": {
      "needs_background": "light"
     },
     "output_type": "display_data"
    }
   ],
   "source": [
    "df_Jew[\"total\"]=df_Jew[\"סך הכל בשנים\\n1948-2021\"]\n",
    "df3 = df_Jew.groupby(\"name_length\").total.sum().reset_index()\n",
    "sns.barplot(data=df3,x=\"name_length\",y=\"total\").set_title('Jew')"
   ]
  },
  {
   "cell_type": "code",
   "execution_count": 23,
   "metadata": {},
   "outputs": [
    {
     "data": {
      "text/plain": [
       "Text(0.5, 1.0, 'Mus')"
      ]
     },
     "execution_count": 23,
     "metadata": {},
     "output_type": "execute_result"
    },
    {
     "data": {
      "image/png": "[encoded data removed]",
      "text/plain": [
       "<Figure size 432x288 with 1 Axes>"
      ]
     },
     "metadata": {
      "needs_background": "light"
     },
     "output_type": "display_data"
    }
   ],
   "source": [
    "df_Mus[\"total\"]=df_Mus[\"סך הכל בשנים\\n1948-2021\"]\n",
    "df7 = df_Mus.groupby(\"name_length\").total.sum().reset_index()\n",
    "sns.barplot(data=df7,x=\"name_length\",y=\"total\").set_title('Mus')"
   ]
  },
  {
   "cell_type": "code",
   "execution_count": 24,
   "metadata": {},
   "outputs": [],
   "source": [
    "_mus=df_Mus[df_Mus['שם פרטי'].str.contains(\"-\")]\n",
    "_sum_mus=_mus[\"סך הכל בשנים\\n1948-2021\"].sum()\n",
    "_Jew=df_Jew[df_Jew['שם פרטי'].str.contains(\"-\")]\n",
    "_sum_jew=_Jew[\"סך הכל בשנים\\n1948-2021\"].sum()\n",
    "_m=df_M[df_M['שם פרטי'].str.contains(\"-\")]\n",
    "_sum_m=_m[\"סך הכל בשנים\\n1948-2021\"].sum()\n",
    "_f=df_F[df_F['שם פרטי'].str.contains(\"-\")]\n",
    "_sum_f=_f[\"סך הכל בשנים\\n1948-2021\"].sum()\n",
    "_all=df_all[df_all['שם פרטי'].str.contains(\"-\")]\n",
    "_sum_all=_all[\"סך הכל בשנים\\n1948-2021\"].sum()"
   ]
  },
  {
   "cell_type": "markdown",
   "metadata": {},
   "source": [
    "we continue our search with names double names(names containing a \"-\")"
   ]
  },
  {
   "cell_type": "code",
   "execution_count": 25,
   "metadata": {},
   "outputs": [],
   "source": [
    "df_sum1 = {'Name': ['Total','Male','Female', 'Jew', 'Muslim'], 'Total': [_sum_all,_sum_m, _sum_f,_sum_jew, _sum_mus]}\n",
    "df_sum1 = pd.DataFrame(df_sum1)"
   ]
  },
  {
   "cell_type": "code",
   "execution_count": 26,
   "metadata": {},
   "outputs": [
    {
     "data": {
      "text/plain": [
       "Text(0.5, 1.0, 'Names with a Hyphen')"
      ]
     },
     "execution_count": 26,
     "metadata": {},
     "output_type": "execute_result"
    },
    {
     "data": {
      "image/png": "[encoded data removed]",
      "text/plain": [
       "<Figure size 432x288 with 1 Axes>"
      ]
     },
     "metadata": {},
     "output_type": "display_data"
    }
   ],
   "source": [
    "sns.set(style='white')\n",
    "sns.barplot(data=df_sum1, x=\"Name\",y=\"Total\").set_title(\"Names with a Hyphen\")"
   ]
  },
  {
   "cell_type": "code",
   "execution_count": 27,
   "metadata": {},
   "outputs": [],
   "source": [
    "df_Jew_M[\"Total\"]=df_Jew_M[\"סך הכל בשנים\\n1948-2021\"]\n",
    "df_Jew_F[\"Total\"]=df_Jew_F[\"סך הכל בשנים\\n1948-2021\"]"
   ]
  },
  {
   "cell_type": "code",
   "execution_count": 28,
   "metadata": {},
   "outputs": [],
   "source": [
    "JoinNames=pd.merge(df_Jew_M,df_Jew_F,on=\"שם פרטי\",how=\"inner\")\n",
    "JoinNames[\"Total\"]=JoinNames[\"Total_x\"]+JoinNames[\"Total_y\"]\n",
    "JoinNames['Name'] = JoinNames.loc[:,'שם פרטי'].apply(lambda x: x[::-1])"
   ]
  },
  {
   "cell_type": "code",
   "execution_count": 29,
   "metadata": {},
   "outputs": [
    {
     "data": {
      "text/plain": [
       "Text(0.5, 1.0, 'Gender mutual names')"
      ]
     },
     "execution_count": 29,
     "metadata": {},
     "output_type": "execute_result"
    },
    {
     "data": {
      "image/png": "[encoded data removed]",
      "text/plain": [
       "<Figure size 432x288 with 1 Axes>"
      ]
     },
     "metadata": {},
     "output_type": "display_data"
    }
   ],
   "source": [
    "JoinNames.sort_values(\"Total\").tail(5).plot(x=\"Name\",y=\"Total\").set_title(\"Gender mutual names\")"
   ]
  },
  {
   "cell_type": "markdown",
   "metadata": {},
   "source": [
    "next we check using the inner join function what names boys and girls in isreal share"
   ]
  },
  {
   "cell_type": "code",
   "execution_count": 30,
   "metadata": {},
   "outputs": [
    {
     "data": {
      "text/plain": [
       "289      107\n",
       "237      207\n",
       "1      41457\n",
       "2      37377\n",
       "0      43572\n",
       "Name: Total_x, dtype: int64"
      ]
     },
     "execution_count": 30,
     "metadata": {},
     "output_type": "execute_result"
    }
   ],
   "source": [
    "Top5JN=JoinNames.sort_values(\"Total\").tail(5)\n",
    "Top5JN[\"Total_x\"]"
   ]
  },
  {
   "cell_type": "code",
   "execution_count": 31,
   "metadata": {},
   "outputs": [
    {
     "data": {
      "text/plain": [
       "Text(0.5, 1.0, 'distrbution of top gender mutual name for boys(x) and girls(y)')"
      ]
     },
     "execution_count": 31,
     "metadata": {},
     "output_type": "execute_result"
    },
    {
     "data": {
      "image/png": "[encoded data removed]",
      "text/plain": [
       "<Figure size 432x288 with 1 Axes>"
      ]
     },
     "metadata": {},
     "output_type": "display_data"
    }
   ],
   "source": [
    "Top5JN.plot(x=\"Name\", y=[\"Total_y\", \"Total_x\"]).set_title(\"distrbution of top gender mutual name for boys(x) and girls(y)\")"
   ]
  },
  {
   "cell_type": "markdown",
   "metadata": {},
   "source": [
    "Later we tried to understand whether they are fully mutual or only partally used by the other sex"
   ]
  },
  {
   "cell_type": "code",
   "execution_count": 32,
   "metadata": {},
   "outputs": [
    {
     "name": "stderr",
     "output_type": "stream",
     "text": [
      "*c* argument looks like a single numeric RGB or RGBA sequence, which should be avoided as value-mapping will have precedence in case its length matches with *x* & *y*.  Please use the *color* keyword-argument or provide a 2-D array with a single row if you intend to specify the same RGB or RGBA value for all points.\n"
     ]
    },
    {
     "data": {
      "text/plain": [
       "Text(0.5, 1.0, 'Top Trending')"
      ]
     },
     "execution_count": 32,
     "metadata": {},
     "output_type": "execute_result"
    },
    {
     "data": {
      "image/png": "[encoded data removed]",
      "text/plain": [
       "<Figure size 432x288 with 1 Axes>"
      ]
     },
     "metadata": {},
     "output_type": "display_data"
    }
   ],
   "source": [
    "df_all[\"Total_New\"]=df_all[2017]+df_all[2018]+df_all[2019]+df_all[2020]+df_all[2021]\n",
    "df_new=df_all.sort_values(\"Total_New\")\n",
    "df_new.tail(10).plot.scatter(x=\"Name\", y=\"Total_New\").set_title(\"Top Trending\")"
   ]
  },
  {
   "cell_type": "markdown",
   "metadata": {},
   "source": [
    "now we look at whether naming patterns have changed through the years by looking at the top names from the last 10 years(trending)"
   ]
  },
  {
   "cell_type": "code",
   "execution_count": 40,
   "metadata": {},
   "outputs": [],
   "source": [
    "Join_M_J=pd.merge(df_Jew_M,df_Mus_M,on=\"שם פרטי\",how=\"inner\")\n",
    "Join_M_J[\"Total_Jew\"]=Join_M_J[\"סך הכל בשנים\\n1948-2021_x\"]\n",
    "Join_M_J[\"Total_Mus\"]=Join_M_J[\"סך הכל בשנים\\n1948-2021_y\"]\n",
    "Join_M_J[\"Total\"]=Join_M_J[\"Total_Jew\"]+Join_M_J[\"Total_Mus\"]\n",
    "Join_M_J['Name'] = Join_M_J.loc[:,'שם פרטי'].apply(lambda x: x[::-1])"
   ]
  },
  {
   "cell_type": "markdown",
   "metadata": {},
   "source": [
    "later i found the common names between muslim and jews using the join function again"
   ]
  },
  {
   "cell_type": "code",
   "execution_count": 41,
   "metadata": {},
   "outputs": [
    {
     "data": {
      "text/plain": [
       "Text(0.5, 1.0, 'Names for both muslim and jews')"
      ]
     },
     "execution_count": 41,
     "metadata": {},
     "output_type": "execute_result"
    },
    {
     "data": {
      "image/png": "[encoded data removed]",
      "text/plain": [
       "<Figure size 432x288 with 1 Axes>"
      ]
     },
     "metadata": {},
     "output_type": "display_data"
    }
   ],
   "source": [
    "Join_M_J.sort_values(\"Total\").tail(5).plot(x=\"Name\",y=\"Total\",kind=\"barh\").set_title(\"Names for both muslim and jews\")"
   ]
  },
  {
   "cell_type": "code",
   "execution_count": 42,
   "metadata": {},
   "outputs": [
    {
     "data": {
      "text/plain": [
       "Text(0.5, 1.0, 'distrbution of top Muslim and jews mutual names')"
      ]
     },
     "execution_count": 42,
     "metadata": {},
     "output_type": "execute_result"
    },
    {
     "data": {
      "image/png": "[encoded data removed]",
      "text/plain": [
       "<Figure size 432x288 with 1 Axes>"
      ]
     },
     "metadata": {},
     "output_type": "display_data"
    }
   ],
   "source": [
    "Join_M_J.sort_values(\"Total\").tail(5).plot(x=\"Name\", y=[\"Total_Jew\", \"Total_Mus\"]).set_title(\"distrbution of top Muslim and jews mutual names\")"
   ]
  },
  {
   "cell_type": "markdown",
   "metadata": {},
   "source": [
    "and again checking the same top 5 names to see how do they disperse(taking account the diffrence in population sizes)"
   ]
  },
  {
   "cell_type": "code",
   "execution_count": null,
   "metadata": {},
   "outputs": [],
   "source": []
  }
 ],
 "metadata": {
  "kernelspec": {
   "display_name": "Python 3",
   "language": "python",
   "name": "python3"
  },
  "language_info": {
   "codemirror_mode": {
    "name": "ipython",
    "version": 3
   },
   "file_extension": ".py",
   "mimetype": "text/x-python",
   "name": "python",
   "nbconvert_exporter": "python",
   "pygments_lexer": "ipython3",
   "version": "3.8.5"
  }
 },
 "nbformat": 4,
 "nbformat_minor": 4
}
